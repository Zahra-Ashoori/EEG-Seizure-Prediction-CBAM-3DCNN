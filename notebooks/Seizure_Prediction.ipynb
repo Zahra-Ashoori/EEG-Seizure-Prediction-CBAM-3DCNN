{
 "cells": [
  {
   "cell_type": "markdown",
   "id": "7375b5c7",
   "metadata": {},
   "source": [
    "### Load Raw EEG Dataset CHB-MIT"
   ]
  },
  {
   "cell_type": "code",
   "execution_count": 1,
   "id": "75cc6d5c",
   "metadata": {},
   "outputs": [],
   "source": [
    "# Import the packages \n",
    "import mne\n",
    "import os\n",
    "import re\n",
    "import numpy as np\n",
    "import matplotlib.pyplot as plt\n",
    "import torch\n",
    "import torch.nn"
   ]
  },
  {
   "cell_type": "code",
   "execution_count": 2,
   "id": "17dcbcb3",
   "metadata": {},
   "outputs": [],
   "source": [
    "#ِDataset patients Info based on paper \"Shoeb (2010)\"\n",
    "patient_info = {\n",
    "    'chb01': {'age': 11, 'gender': 'F'},\n",
    "    'chb02': {'age': 11, 'gender': 'M'},\n",
    "    'chb03': {'age': 14, 'gender': 'F'},\n",
    "    'chb04': {'age': 22, 'gender': 'M'},\n",
    "    'chb05': {'age': 7,  'gender': 'F'},\n",
    "    'chb06': {'age': 1.5,'gender': 'F'},\n",
    "    'chb07': {'age': 14.5,'gender': 'F'},\n",
    "    'chb08': {'age': 3.5,'gender': 'M'},\n",
    "    'chb09': {'age': 10, 'gender': 'F'},\n",
    "    'chb10': {'age': 3,  'gender': 'M'},\n",
    "    'chb11': {'age': 12, 'gender': 'F'},\n",
    "    'chb12': {'age': 2,  'gender': 'F'},\n",
    "    'chb13': {'age': 3,  'gender': 'F'},\n",
    "    'chb14': {'age': 9,  'gender': 'M'},\n",
    "    'chb15': {'age': 16, 'gender': 'M'},\n",
    "    'chb16': {'age': 7,  'gender': 'F'},\n",
    "    'chb17': {'age': 12, 'gender': 'F'},\n",
    "    'chb18': {'age': 18, 'gender': 'F'},\n",
    "    'chb19': {'age': 19, 'gender': 'F'},\n",
    "    'chb20': {'age': 6,  'gender': 'F'},\n",
    "    'chb21': {'age': 13, 'gender': 'F'},\n",
    "    'chb22': {'age': 9,  'gender': 'F'},\n",
    "    'chb23': {'age': 6,  'gender': 'F'}\n",
    "}"
   ]
  },
  {
   "cell_type": "markdown",
   "id": "8d342825",
   "metadata": {},
   "source": [
    "#### Try to read annotations from chbXX-summary.txt"
   ]
  },
  {
   "cell_type": "code",
   "execution_count": 3,
   "id": "097ffdad",
   "metadata": {},
   "outputs": [],
   "source": [
    "\n",
    "def Read_Patients_Annotations(summary_path, patient):\n",
    "    seizure_annotations = {}\n",
    "    start_sec = 0 \n",
    "    end_sec = 0\n",
    "    #Read Summary file\n",
    "    try:\n",
    "        if not os.path.exists(summary_path):\n",
    "            raise Exception(f\"Summary not found for {patient}\")\n",
    "\n",
    "        with open(summary_path, 'r') as f:\n",
    "            lines = f.readlines()\n",
    "\n",
    "        i = 0\n",
    "        while i < len(lines):\n",
    "            line = lines[i].strip()\n",
    "            if line.startswith(\"File Name:\"):\n",
    "                file_name = line.split(\":\", 1)[1].strip()\n",
    "                #file_name = file_name_full.replace(\".edf\", \"\")  # Remove .edf from key\n",
    "                i += 1\n",
    "                record_start_time = lines[i].strip().split(\":\", 1)[1].strip()\n",
    "                i += 1\n",
    "                record_end_time = lines[i].strip().split(\":\", 1)[1].strip()\n",
    "                i += 1\n",
    "                num_seizures = int(lines[i].strip().split(\":\", 1)[1].strip())\n",
    "                seizures = []\n",
    "\n",
    "                for _ in range(num_seizures):\n",
    "                    i += 1\n",
    "                    start_sec_str = lines[i].strip().split(\":\", 1)[1].strip()\n",
    "                    start_sec = int(start_sec_str.replace(\" seconds\", \"\"))\n",
    "\n",
    "                    i += 1\n",
    "                    end_sec_str = lines[i].strip().split(\":\", 1)[1].strip()\n",
    "                    end_sec = int(end_sec_str.replace(\" seconds\", \"\"))\n",
    "\n",
    "                    seizures.append({\"start\": start_sec, \"end\": end_sec})\n",
    "\n",
    "                # Save in dictionary\n",
    "                seizure_annotations[file_name] = {\n",
    "                    \"record_start_time\": record_start_time,\n",
    "                    \"record_end_time\": record_end_time,\n",
    "                    \"num_seizures\": num_seizures,\n",
    "                    \"seizures\": seizures\n",
    "                }\n",
    "            i += 1\n",
    "\n",
    "        return seizure_annotations\n",
    "    \n",
    "    except Exception as ex:\n",
    "        print(f\"Error reading summary file of patient{patient}: {ex}\")\n",
    "\n",
    "#summary_file = \"D:\\Master/Dissertation (Thesis)/Epileptic Seizure/Dataset/CHB-MIT/chb01/chb01-summary.txt\"\n",
    "#test = Read_Patients_Annotations(summary_file,'chb01')\n",
    "#print(test)"
   ]
  },
  {
   "cell_type": "code",
   "execution_count": 4,
   "id": "6a36dab1",
   "metadata": {},
   "outputs": [],
   "source": [
    "# Method for load all data of selected_patients contains: edf_files, annotations, age, sex\n",
    "\n",
    "def Load_All_Data(base_path, selected_patients):\n",
    "    all_data = []\n",
    "    all_edf_data = []\n",
    "\n",
    "    # If there is no specific patints, read all patients data\n",
    "    if selected_patients is None:\n",
    "        selected_patients = sorted([d for d in os.listdir(base_path) if d.startswith('chb') and os.path.isdir(os.path.join(base_path, d))])\n",
    "\n",
    "    for patient in selected_patients:\n",
    "        patient_folder = os.path.join(base_path, patient)\n",
    "        if not os.path.exists(patient_folder):\n",
    "            print(f\"Warning! Folder not found for patient {patient}\")\n",
    "            continue\n",
    "        \n",
    "        summary_file = os.path.join(patient_folder, f\"{patient}-summary.txt\")\n",
    "        seizure_annotations = Read_Patients_Annotations(summary_file, patient)\n",
    "\n",
    "        demographic_data = patient_info.get(patient, {'age': None, 'gender': None})\n",
    "\n",
    "        #Load edf files and add to dictionary\n",
    "        edf_files = sorted([f for f in os.listdir(patient_folder) if f.endswith('.edf')])\n",
    "\n",
    "        for file in edf_files:\n",
    "            file_path = os.path.join(patient_folder, file)\n",
    "            annotations = seizure_annotations.get(file, {})    \n",
    "\n",
    "            try:\n",
    "                print(f\"Loading: {file_path} ...\")\n",
    "                raw = mne.io.read_raw_edf(file_path, preload = True, verbose = False)\n",
    "\n",
    "                if seizure_annotations and file in seizure_annotations:\n",
    "                    all_edf_data.append({'fileName': file, \n",
    "                                         'raw': raw,\n",
    "                                        'record_start_time': annotations.get(\"record_start_time\", None),\n",
    "                                        'record_end_time': annotations.get(\"record_end_time\", None),\n",
    "                                        'num_seizures': annotations.get(\"num_seizures\", 0),\n",
    "                                        'seizures':annotations.get(\"seizures\", []) })\n",
    "                else:\n",
    "                    all_edf_data.append({'fileName': file, \n",
    "                                         'raw': raw})\n",
    "            \n",
    "                    \n",
    "            except Exception as e:\n",
    "                print(f\"Error loading {file_path}:{e}\")\n",
    "            \n",
    "\n",
    "            all_data.append({'patient': patient, \n",
    "                             'age': demographic_data['age'],\n",
    "                             'gender': demographic_data['gender'],\n",
    "                             'rawEEGdata': all_edf_data\n",
    "                              }) \n",
    " \n",
    "\n",
    "    return all_data\n",
    "\n"
   ]
  },
  {
   "cell_type": "code",
   "execution_count": 14,
   "id": "ded9f24f",
   "metadata": {},
   "outputs": [
    {
     "name": "stdout",
     "output_type": "stream",
     "text": [
      "Loading: D:\\Master\\Dissertation (Thesis)\\Epileptic Seizure\\Dataset\\CHB-MIT\\chb01\\chb01_01.edf ...\n",
      "Loading: D:\\Master\\Dissertation (Thesis)\\Epileptic Seizure\\Dataset\\CHB-MIT\\chb01\\chb01_02.edf ...\n"
     ]
    },
    {
     "name": "stderr",
     "output_type": "stream",
     "text": [
      "C:\\Users\\ZahraPC\\AppData\\Local\\Temp\\ipykernel_8832\\1115271834.py:31: RuntimeWarning: Channel names are not unique, found duplicates for: {'T8-P8'}. Applying running numbers for duplicates.\n",
      "  raw = mne.io.read_raw_edf(file_path, preload = True, verbose = False)\n",
      "C:\\Users\\ZahraPC\\AppData\\Local\\Temp\\ipykernel_8832\\1115271834.py:31: RuntimeWarning: Channel names are not unique, found duplicates for: {'T8-P8'}. Applying running numbers for duplicates.\n",
      "  raw = mne.io.read_raw_edf(file_path, preload = True, verbose = False)\n"
     ]
    },
    {
     "name": "stdout",
     "output_type": "stream",
     "text": [
      "Loading: D:\\Master\\Dissertation (Thesis)\\Epileptic Seizure\\Dataset\\CHB-MIT\\chb01\\chb01_03.edf ...\n",
      "Loading: D:\\Master\\Dissertation (Thesis)\\Epileptic Seizure\\Dataset\\CHB-MIT\\chb01\\chb01_04.edf ...\n"
     ]
    },
    {
     "name": "stderr",
     "output_type": "stream",
     "text": [
      "C:\\Users\\ZahraPC\\AppData\\Local\\Temp\\ipykernel_8832\\1115271834.py:31: RuntimeWarning: Channel names are not unique, found duplicates for: {'T8-P8'}. Applying running numbers for duplicates.\n",
      "  raw = mne.io.read_raw_edf(file_path, preload = True, verbose = False)\n",
      "C:\\Users\\ZahraPC\\AppData\\Local\\Temp\\ipykernel_8832\\1115271834.py:31: RuntimeWarning: Channel names are not unique, found duplicates for: {'T8-P8'}. Applying running numbers for duplicates.\n",
      "  raw = mne.io.read_raw_edf(file_path, preload = True, verbose = False)\n"
     ]
    },
    {
     "name": "stdout",
     "output_type": "stream",
     "text": [
      "[{'patient': 'chb01', 'age': 11, 'gender': 'F', 'rawEEGdata': [{'fileName': 'chb01_01.edf', 'raw': <RawEDF | chb01_01.edf, 23 x 921600 (3600.0 s), ~161.7 MiB, data loaded>, 'record_start_time': '11:42:54', 'record_end_time': '12:42:54', 'num_seizures': 0, 'seizures': []}, {'fileName': 'chb01_02.edf', 'raw': <RawEDF | chb01_02.edf, 23 x 921600 (3600.0 s), ~161.7 MiB, data loaded>, 'record_start_time': '12:42:57', 'record_end_time': '13:42:57', 'num_seizures': 0, 'seizures': []}, {'fileName': 'chb01_03.edf', 'raw': <RawEDF | chb01_03.edf, 23 x 921600 (3600.0 s), ~161.7 MiB, data loaded>, 'record_start_time': '13:43:04', 'record_end_time': '14:43:04', 'num_seizures': 1, 'seizures': [{'start': 2996, 'end': 3036}]}, {'fileName': 'chb01_04.edf', 'raw': <RawEDF | chb01_04.edf, 23 x 921600 (3600.0 s), ~161.7 MiB, data loaded>, 'record_start_time': '14:43:12', 'record_end_time': '15:43:12', 'num_seizures': 1, 'seizures': [{'start': 1467, 'end': 1494}]}]}, {'patient': 'chb01', 'age': 11, 'gender': 'F', 'rawEEGdata': [{'fileName': 'chb01_01.edf', 'raw': <RawEDF | chb01_01.edf, 23 x 921600 (3600.0 s), ~161.7 MiB, data loaded>, 'record_start_time': '11:42:54', 'record_end_time': '12:42:54', 'num_seizures': 0, 'seizures': []}, {'fileName': 'chb01_02.edf', 'raw': <RawEDF | chb01_02.edf, 23 x 921600 (3600.0 s), ~161.7 MiB, data loaded>, 'record_start_time': '12:42:57', 'record_end_time': '13:42:57', 'num_seizures': 0, 'seizures': []}, {'fileName': 'chb01_03.edf', 'raw': <RawEDF | chb01_03.edf, 23 x 921600 (3600.0 s), ~161.7 MiB, data loaded>, 'record_start_time': '13:43:04', 'record_end_time': '14:43:04', 'num_seizures': 1, 'seizures': [{'start': 2996, 'end': 3036}]}, {'fileName': 'chb01_04.edf', 'raw': <RawEDF | chb01_04.edf, 23 x 921600 (3600.0 s), ~161.7 MiB, data loaded>, 'record_start_time': '14:43:12', 'record_end_time': '15:43:12', 'num_seizures': 1, 'seizures': [{'start': 1467, 'end': 1494}]}]}, {'patient': 'chb01', 'age': 11, 'gender': 'F', 'rawEEGdata': [{'fileName': 'chb01_01.edf', 'raw': <RawEDF | chb01_01.edf, 23 x 921600 (3600.0 s), ~161.7 MiB, data loaded>, 'record_start_time': '11:42:54', 'record_end_time': '12:42:54', 'num_seizures': 0, 'seizures': []}, {'fileName': 'chb01_02.edf', 'raw': <RawEDF | chb01_02.edf, 23 x 921600 (3600.0 s), ~161.7 MiB, data loaded>, 'record_start_time': '12:42:57', 'record_end_time': '13:42:57', 'num_seizures': 0, 'seizures': []}, {'fileName': 'chb01_03.edf', 'raw': <RawEDF | chb01_03.edf, 23 x 921600 (3600.0 s), ~161.7 MiB, data loaded>, 'record_start_time': '13:43:04', 'record_end_time': '14:43:04', 'num_seizures': 1, 'seizures': [{'start': 2996, 'end': 3036}]}, {'fileName': 'chb01_04.edf', 'raw': <RawEDF | chb01_04.edf, 23 x 921600 (3600.0 s), ~161.7 MiB, data loaded>, 'record_start_time': '14:43:12', 'record_end_time': '15:43:12', 'num_seizures': 1, 'seizures': [{'start': 1467, 'end': 1494}]}]}, {'patient': 'chb01', 'age': 11, 'gender': 'F', 'rawEEGdata': [{'fileName': 'chb01_01.edf', 'raw': <RawEDF | chb01_01.edf, 23 x 921600 (3600.0 s), ~161.7 MiB, data loaded>, 'record_start_time': '11:42:54', 'record_end_time': '12:42:54', 'num_seizures': 0, 'seizures': []}, {'fileName': 'chb01_02.edf', 'raw': <RawEDF | chb01_02.edf, 23 x 921600 (3600.0 s), ~161.7 MiB, data loaded>, 'record_start_time': '12:42:57', 'record_end_time': '13:42:57', 'num_seizures': 0, 'seizures': []}, {'fileName': 'chb01_03.edf', 'raw': <RawEDF | chb01_03.edf, 23 x 921600 (3600.0 s), ~161.7 MiB, data loaded>, 'record_start_time': '13:43:04', 'record_end_time': '14:43:04', 'num_seizures': 1, 'seizures': [{'start': 2996, 'end': 3036}]}, {'fileName': 'chb01_04.edf', 'raw': <RawEDF | chb01_04.edf, 23 x 921600 (3600.0 s), ~161.7 MiB, data loaded>, 'record_start_time': '14:43:12', 'record_end_time': '15:43:12', 'num_seizures': 1, 'seizures': [{'start': 1467, 'end': 1494}]}]}]\n"
     ]
    }
   ],
   "source": [
    "# Selected patients based on paper\n",
    "#selected_patients = ['chb01', 'chb02', 'chb03', 'chb05', 'chb07', 'chb08', 'chb10', 'chb11', 'chb13', 'chb14', 'chb18']\n",
    "selected_patients = ['chb01']\n",
    "\n",
    "\n",
    "base_path = 'D:\\\\Master\\\\Dissertation (Thesis)\\\\Epileptic Seizure\\\\Dataset\\\\CHB-MIT'\n",
    "all_edf_data = Load_All_Data(base_path, selected_patients)\n",
    "\n",
    "print(all_edf_data)"
   ]
  },
  {
   "cell_type": "markdown",
   "id": "250859d4",
   "metadata": {},
   "source": [
    "### Preprocessing raw data"
   ]
  },
  {
   "cell_type": "code",
   "execution_count": null,
   "id": "a959e3ef",
   "metadata": {},
   "outputs": [],
   "source": [
    "def Preprocess_Patient_Records(patient_records):\n",
    "    for file_data in patient_records['rawEEGdata']:\n",
    "        raw = file_data['raw']\n",
    "\n",
    "        #Remove 0 HZ DC component and low noise\n",
    "        raw.filter(l_freq = 0.5, h_freq = None, verbose = False)\n",
    "\n",
    "        #Remove electricity and harmonic noises:  57–63 + 117-123\n",
    "        raw.notch_filter(freqs=np.arange(60, 124, 60), notch_widths=6, verbose=False)\n",
    "\n",
    "                # ----- Z-score Normalization for each channel-----\n",
    "        data = raw.get_data()\n",
    "        mean = np.mean(data, axis=1, keepdims=True)\n",
    "        std = np.std(data, axis=1, keepdims=True)\n",
    "        normalized_data = (data - mean) / std\n",
    "        raw._data = normalized_data\n",
    "\n",
    "        file_data['raw'] = raw\n",
    "\n",
    "    return patient_records\n",
    "\n"
   ]
  },
  {
   "cell_type": "markdown",
   "id": "908249e8",
   "metadata": {},
   "source": [
    "### Raw EEG Segmentation"
   ]
  },
  {
   "cell_type": "code",
   "execution_count": null,
   "id": "b650fdd1",
   "metadata": {},
   "outputs": [],
   "source": [
    "'''\n",
    "#Based on summary.txt file of this raw EEG\n",
    "seizure_start = 2996\n",
    "seizure_end = 3036\n",
    "interictal_start = 600 # 10 min after record start\n",
    "segment_duration = 10  # seconds\n",
    "preictal_duration = 1800 # 30 * 60 =  30 min\n",
    "sfreq = int(raw.info['sfreq'])\n",
    "'''\n",
    "# segment_length and overlap are based on paper\n",
    "def Extract_Segments_From_Records(patient_records, segment_length=8, overlap=4):\n",
    "    segments = []\n",
    "    sfreq = int(patient_records['rawEEGdata'][0]['raw'].info['sfreq'])  # Assumption: All files have same frequncy sampling\n",
    "\n",
    "    seg_samples = segment_length * sfreq\n",
    "    step_samples = overlap * sfreq\n",
    "\n",
    "    for file_data in patient_records['rawEEGdata']:\n",
    "        raw = file_data['raw']\n",
    "        data = raw.get_data()  # shape: (channels, samples)\n",
    "        filename = file_data['fileName']\n",
    "        seizures = file_data.get('seizures', [])\n",
    "        total_samples = data.shape[1]\n",
    "        total_duration_sec = total_samples / sfreq\n",
    "\n",
    "        # ----- Extract preictal segments-----\n",
    "        for sz in seizures:\n",
    "            seizure_start = sz['start']\n",
    "            pre_start = seizure_start - 2100  # 35 min before seizure\n",
    "            pre_end = seizure_start - 300     # 5  min before seizure\n",
    "\n",
    "            if pre_start < 0:\n",
    "                continue  # Skip incorrect windows\n",
    "\n",
    "            start_idx = int(pre_start * sfreq)\n",
    "            end_idx = int(pre_end * sfreq)\n",
    "\n",
    "            for i in range(start_idx, end_idx - seg_samples + 1, step_samples):\n",
    "                segment = data[:, i:i + seg_samples]\n",
    "                segments.append({\n",
    "                    'data': segment,\n",
    "                    'label': 1,\n",
    "                    'patient': patient_records['patient'],\n",
    "                    'filename': filename,\n",
    "                    'start_time': i / sfreq,\n",
    "                    'type': 'preictal'\n",
    "                })\n",
    "\n",
    "        # ----- calculate interictal durations-----\n",
    "        interictal_ranges = []\n",
    "        last_end = 0\n",
    "\n",
    "        for sz in seizures:\n",
    "            if sz['start'] - 14400 > last_end:\n",
    "                interictal_ranges.append((last_end, sz['start'] - 14400))\n",
    "            last_end = max(last_end, sz['end'] + 14400)\n",
    "\n",
    "        if last_end < total_duration_sec:\n",
    "            interictal_ranges.append((last_end, total_duration_sec))\n",
    "\n",
    "        # ----- Extract interictal segments-----\n",
    "        for irange in interictal_ranges:\n",
    "            istart_idx = int(irange[0] * sfreq)\n",
    "            iend_idx = int(irange[1] * sfreq)\n",
    "\n",
    "            for i in range(istart_idx, iend_idx - seg_samples + 1, step_samples):\n",
    "                segment = data[:, i:i + seg_samples]\n",
    "                segments.append({\n",
    "                    'data': segment,\n",
    "                    'label': 0,\n",
    "                    'patient': patient_records['patient'],\n",
    "                    'filename': filename,\n",
    "                    'start_time': i / sfreq,\n",
    "                    'type': 'interictal'\n",
    "                })\n",
    "\n",
    "    return segments"
   ]
  },
  {
   "cell_type": "code",
   "execution_count": null,
   "id": "0c125072",
   "metadata": {},
   "outputs": [
    {
     "name": "stdout",
     "output_type": "stream",
     "text": [
      "✅ Total segments: 8988\n"
     ]
    }
   ],
   "source": [
    "all_segments = []\n",
    "for record in all_edf_data:\n",
    "    segs = Extract_Segments_From_Records(record)\n",
    "    all_segments.extend(segs)\n",
    "\n",
    "print(f\"Total segments: {len(all_segments)}\")\n"
   ]
  },
  {
   "cell_type": "markdown",
   "id": "4adc4e58",
   "metadata": {},
   "source": [
    "### Create Spectogram"
   ]
  }
 ],
 "metadata": {
  "kernelspec": {
   "display_name": "Python 3",
   "language": "python",
   "name": "python3"
  },
  "language_info": {
   "codemirror_mode": {
    "name": "ipython",
    "version": 3
   },
   "file_extension": ".py",
   "mimetype": "text/x-python",
   "name": "python",
   "nbconvert_exporter": "python",
   "pygments_lexer": "ipython3",
   "version": "3.12.4"
  }
 },
 "nbformat": 4,
 "nbformat_minor": 5
}
